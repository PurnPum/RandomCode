{
 "cells": [
  {
   "cell_type": "markdown",
   "metadata": {},
   "source": [
    "# Assignment 1"
   ]
  },
  {
   "cell_type": "code",
   "execution_count": 185,
   "metadata": {},
   "outputs": [],
   "source": [
    "from os import getcwd\n",
    "import pandas as pd\n",
    "import numpy as np\n",
    "import scipy.stats as stats"
   ]
  },
  {
   "cell_type": "code",
   "execution_count": 2,
   "metadata": {},
   "outputs": [],
   "source": [
    "path = getcwd() + \"\\\\resources\\\\NISPUF17.csv\""
   ]
  },
  {
   "cell_type": "code",
   "execution_count": 3,
   "metadata": {},
   "outputs": [],
   "source": [
    "with open (path, \"r\") as file:\n",
    "    immunes = file.read()"
   ]
  },
  {
   "cell_type": "code",
   "execution_count": null,
   "metadata": {},
   "outputs": [],
   "source": []
  },
  {
   "cell_type": "code",
   "execution_count": 5,
   "metadata": {},
   "outputs": [
    {
     "data": {
      "text/plain": [
       "40531679"
      ]
     },
     "execution_count": 5,
     "metadata": {},
     "output_type": "execute_result"
    }
   ],
   "source": [
    "len(immunes)"
   ]
  },
  {
   "cell_type": "code",
   "execution_count": 11,
   "metadata": {},
   "outputs": [],
   "source": [
    "data = pd.read_csv(path, index_col='Unnamed: 0')"
   ]
  },
  {
   "cell_type": "code",
   "execution_count": 12,
   "metadata": {},
   "outputs": [
    {
     "data": {
      "text/html": [
       "<div>\n",
       "<style scoped>\n",
       "    .dataframe tbody tr th:only-of-type {\n",
       "        vertical-align: middle;\n",
       "    }\n",
       "\n",
       "    .dataframe tbody tr th {\n",
       "        vertical-align: top;\n",
       "    }\n",
       "\n",
       "    .dataframe thead th {\n",
       "        text-align: right;\n",
       "    }\n",
       "</style>\n",
       "<table border=\"1\" class=\"dataframe\">\n",
       "  <thead>\n",
       "    <tr style=\"text-align: right;\">\n",
       "      <th></th>\n",
       "      <th>SEQNUMC</th>\n",
       "      <th>SEQNUMHH</th>\n",
       "      <th>PDAT</th>\n",
       "      <th>PROVWT_D</th>\n",
       "      <th>RDDWT_D</th>\n",
       "      <th>STRATUM</th>\n",
       "      <th>YEAR</th>\n",
       "      <th>AGECPOXR</th>\n",
       "      <th>HAD_CPOX</th>\n",
       "      <th>AGEGRP</th>\n",
       "      <th>...</th>\n",
       "      <th>XVRCTY2</th>\n",
       "      <th>XVRCTY3</th>\n",
       "      <th>XVRCTY4</th>\n",
       "      <th>XVRCTY5</th>\n",
       "      <th>XVRCTY6</th>\n",
       "      <th>XVRCTY7</th>\n",
       "      <th>XVRCTY8</th>\n",
       "      <th>XVRCTY9</th>\n",
       "      <th>INS_STAT2_I</th>\n",
       "      <th>INS_BREAK_I</th>\n",
       "    </tr>\n",
       "  </thead>\n",
       "  <tbody>\n",
       "    <tr>\n",
       "      <th>1</th>\n",
       "      <td>128521</td>\n",
       "      <td>12852</td>\n",
       "      <td>2</td>\n",
       "      <td>NaN</td>\n",
       "      <td>235.916956</td>\n",
       "      <td>1031</td>\n",
       "      <td>2017</td>\n",
       "      <td>NaN</td>\n",
       "      <td>2</td>\n",
       "      <td>1</td>\n",
       "      <td>...</td>\n",
       "      <td></td>\n",
       "      <td></td>\n",
       "      <td>NaN</td>\n",
       "      <td>NaN</td>\n",
       "      <td>NaN</td>\n",
       "      <td>NaN</td>\n",
       "      <td>NaN</td>\n",
       "      <td>NaN</td>\n",
       "      <td>NaN</td>\n",
       "      <td>NaN</td>\n",
       "    </tr>\n",
       "    <tr>\n",
       "      <th>2</th>\n",
       "      <td>10741</td>\n",
       "      <td>1074</td>\n",
       "      <td>2</td>\n",
       "      <td>NaN</td>\n",
       "      <td>957.353840</td>\n",
       "      <td>1068</td>\n",
       "      <td>2017</td>\n",
       "      <td>NaN</td>\n",
       "      <td>2</td>\n",
       "      <td>1</td>\n",
       "      <td>...</td>\n",
       "      <td></td>\n",
       "      <td></td>\n",
       "      <td>NaN</td>\n",
       "      <td>NaN</td>\n",
       "      <td>NaN</td>\n",
       "      <td>NaN</td>\n",
       "      <td>NaN</td>\n",
       "      <td>NaN</td>\n",
       "      <td>NaN</td>\n",
       "      <td>NaN</td>\n",
       "    </tr>\n",
       "    <tr>\n",
       "      <th>3</th>\n",
       "      <td>220011</td>\n",
       "      <td>22001</td>\n",
       "      <td>2</td>\n",
       "      <td>NaN</td>\n",
       "      <td>189.611299</td>\n",
       "      <td>1050</td>\n",
       "      <td>2017</td>\n",
       "      <td>NaN</td>\n",
       "      <td>2</td>\n",
       "      <td>3</td>\n",
       "      <td>...</td>\n",
       "      <td></td>\n",
       "      <td></td>\n",
       "      <td>NaN</td>\n",
       "      <td>NaN</td>\n",
       "      <td>NaN</td>\n",
       "      <td>NaN</td>\n",
       "      <td>NaN</td>\n",
       "      <td>NaN</td>\n",
       "      <td>NaN</td>\n",
       "      <td>NaN</td>\n",
       "    </tr>\n",
       "    <tr>\n",
       "      <th>4</th>\n",
       "      <td>86131</td>\n",
       "      <td>8613</td>\n",
       "      <td>1</td>\n",
       "      <td>675.430817</td>\n",
       "      <td>333.447418</td>\n",
       "      <td>1040</td>\n",
       "      <td>2017</td>\n",
       "      <td>NaN</td>\n",
       "      <td>2</td>\n",
       "      <td>1</td>\n",
       "      <td>...</td>\n",
       "      <td></td>\n",
       "      <td></td>\n",
       "      <td>NaN</td>\n",
       "      <td>NaN</td>\n",
       "      <td>NaN</td>\n",
       "      <td>NaN</td>\n",
       "      <td>NaN</td>\n",
       "      <td>NaN</td>\n",
       "      <td>1.0</td>\n",
       "      <td>2.0</td>\n",
       "    </tr>\n",
       "    <tr>\n",
       "      <th>5</th>\n",
       "      <td>227141</td>\n",
       "      <td>22714</td>\n",
       "      <td>1</td>\n",
       "      <td>482.617748</td>\n",
       "      <td>278.768063</td>\n",
       "      <td>1008</td>\n",
       "      <td>2017</td>\n",
       "      <td>NaN</td>\n",
       "      <td>2</td>\n",
       "      <td>1</td>\n",
       "      <td>...</td>\n",
       "      <td></td>\n",
       "      <td></td>\n",
       "      <td>NaN</td>\n",
       "      <td>NaN</td>\n",
       "      <td>NaN</td>\n",
       "      <td>NaN</td>\n",
       "      <td>NaN</td>\n",
       "      <td>NaN</td>\n",
       "      <td>2.0</td>\n",
       "      <td>1.0</td>\n",
       "    </tr>\n",
       "  </tbody>\n",
       "</table>\n",
       "<p>5 rows × 453 columns</p>\n",
       "</div>"
      ],
      "text/plain": [
       "   SEQNUMC  SEQNUMHH  PDAT    PROVWT_D     RDDWT_D  STRATUM  YEAR  AGECPOXR  \\\n",
       "1   128521     12852     2         NaN  235.916956     1031  2017       NaN   \n",
       "2    10741      1074     2         NaN  957.353840     1068  2017       NaN   \n",
       "3   220011     22001     2         NaN  189.611299     1050  2017       NaN   \n",
       "4    86131      8613     1  675.430817  333.447418     1040  2017       NaN   \n",
       "5   227141     22714     1  482.617748  278.768063     1008  2017       NaN   \n",
       "\n",
       "   HAD_CPOX  AGEGRP  ...  XVRCTY2  XVRCTY3  XVRCTY4  XVRCTY5  XVRCTY6  \\\n",
       "1         2       1  ...                        NaN      NaN      NaN   \n",
       "2         2       1  ...                        NaN      NaN      NaN   \n",
       "3         2       3  ...                        NaN      NaN      NaN   \n",
       "4         2       1  ...                        NaN      NaN      NaN   \n",
       "5         2       1  ...                        NaN      NaN      NaN   \n",
       "\n",
       "   XVRCTY7  XVRCTY8  XVRCTY9  INS_STAT2_I  INS_BREAK_I  \n",
       "1      NaN      NaN      NaN          NaN          NaN  \n",
       "2      NaN      NaN      NaN          NaN          NaN  \n",
       "3      NaN      NaN      NaN          NaN          NaN  \n",
       "4      NaN      NaN      NaN          1.0          2.0  \n",
       "5      NaN      NaN      NaN          2.0          1.0  \n",
       "\n",
       "[5 rows x 453 columns]"
      ]
     },
     "execution_count": 12,
     "metadata": {},
     "output_type": "execute_result"
    }
   ],
   "source": [
    "data.head()"
   ]
  },
  {
   "cell_type": "code",
   "execution_count": 17,
   "metadata": {},
   "outputs": [
    {
     "data": {
      "text/plain": [
       "['SEQNUMC',\n",
       " 'SEQNUMHH',\n",
       " 'PDAT',\n",
       " 'PROVWT_D',\n",
       " 'RDDWT_D',\n",
       " 'STRATUM',\n",
       " 'YEAR',\n",
       " 'AGECPOXR',\n",
       " 'HAD_CPOX',\n",
       " 'AGEGRP',\n",
       " 'BF_ENDR06',\n",
       " 'BF_EXCLR06',\n",
       " 'BF_FORMR08',\n",
       " 'BFENDFL06',\n",
       " 'BFFORMFL06',\n",
       " 'C1R',\n",
       " 'C5R',\n",
       " 'CBF_01',\n",
       " 'CEN_REG',\n",
       " 'CHILDNM',\n",
       " 'CWIC_01',\n",
       " 'CWIC_02',\n",
       " 'EDUC1',\n",
       " 'FRSTBRN',\n",
       " 'I_HISP_K',\n",
       " 'INCPORAR',\n",
       " 'INCPORAR_I',\n",
       " 'INCPOV1',\n",
       " 'INCQ298A',\n",
       " 'LANGUAGE',\n",
       " 'M_AGEGRP2',\n",
       " 'MARITAL2',\n",
       " 'MOBIL_I',\n",
       " 'NUM_PHONE',\n",
       " 'NUM_CELLS_HH',\n",
       " 'NUM_CELLS_PARENTS',\n",
       " 'RACE_K',\n",
       " 'RACEETHK',\n",
       " 'RENT_OWN',\n",
       " 'SEX',\n",
       " 'ESTIAP17',\n",
       " 'EST_GRANT',\n",
       " 'STATE',\n",
       " 'D6R',\n",
       " 'D7',\n",
       " 'N_PRVR',\n",
       " 'PROV_FAC',\n",
       " 'REGISTRY',\n",
       " 'VFC_ORDER',\n",
       " 'HEP_BRTH',\n",
       " 'HEP_FLAG',\n",
       " 'P_NUHEPX',\n",
       " 'P_NUHIBX',\n",
       " 'P_NUHPHB',\n",
       " 'P_NUMDAH',\n",
       " 'P_NUMDHI',\n",
       " 'P_NUMDIH',\n",
       " 'P_NUMDTA',\n",
       " 'P_NUMDTP',\n",
       " 'P_NUMFLU',\n",
       " 'P_NUMFLUL',\n",
       " 'P_NUMFLUM',\n",
       " 'P_NUMFLUN',\n",
       " 'P_NUMHEA',\n",
       " 'P_NUMHEN',\n",
       " 'P_NUMHEP',\n",
       " 'P_NUMHG',\n",
       " 'P_NUMHHY',\n",
       " 'P_NUMHIB',\n",
       " 'P_NUMHIN',\n",
       " 'P_NUMHION',\n",
       " 'P_NUMHM',\n",
       " 'P_NUMHS',\n",
       " 'P_NUMIPV',\n",
       " 'P_NUMMCN',\n",
       " 'P_NUMMMR',\n",
       " 'P_NUMMMRX',\n",
       " 'P_NUMMMX',\n",
       " 'P_NUMMP',\n",
       " 'P_NUMMPR',\n",
       " 'P_NUMMRV',\n",
       " 'P_NUMMS',\n",
       " 'P_NUMMSM',\n",
       " 'P_NUMMSR',\n",
       " 'P_NUMOLN',\n",
       " 'P_NUMOPV',\n",
       " 'P_NUMPCV',\n",
       " 'P_NUMPCP',\n",
       " 'P_NUMPCC',\n",
       " 'P_NUMPCC7',\n",
       " 'P_NUMPCC13',\n",
       " 'P_NUMPCCN',\n",
       " 'P_NUMPCN',\n",
       " 'P_NUMPOL',\n",
       " 'P_NUMRB',\n",
       " 'P_NUMRG',\n",
       " 'P_NUMRM',\n",
       " 'P_NUMRO',\n",
       " 'P_NUMROT',\n",
       " 'P_NUMTPN',\n",
       " 'P_NUMVRC',\n",
       " 'P_NUMVRN',\n",
       " 'P_NUMVRX',\n",
       " 'P_U12VRC',\n",
       " 'P_UTD331',\n",
       " 'P_UTD431',\n",
       " 'P_UTDHEP',\n",
       " 'P_UTDHEPA1',\n",
       " 'P_UTDHEPA2',\n",
       " 'P_UTDHIB',\n",
       " 'P_UTDHIB_ROUT_S',\n",
       " 'P_UTDHIB_SHORT_S',\n",
       " 'P_UTDMCV',\n",
       " 'P_UTDMMX',\n",
       " 'P_UTDPC3',\n",
       " 'P_UTDPCV',\n",
       " 'P_UTDPCVB13',\n",
       " 'P_UTDPOL',\n",
       " 'P_UTDROT_S',\n",
       " 'P_UTDTP3',\n",
       " 'P_UTDTP4',\n",
       " 'PU431331',\n",
       " 'P_UTD431H31_ROUT_S',\n",
       " 'PU431_31',\n",
       " 'PU4313313',\n",
       " 'P_UTD431H313_ROUT_S',\n",
       " 'PU4313314',\n",
       " 'P_UTD431H314_ROUT_S',\n",
       " 'PU431_314',\n",
       " 'PUT43133',\n",
       " 'P_UTD431H3_ROUT_S',\n",
       " 'PUTD4313',\n",
       " 'P_UTD431H_ROUT_S',\n",
       " 'U1D_HEP',\n",
       " 'U2D_HEP',\n",
       " 'U3D_HEP',\n",
       " 'DDTP1',\n",
       " 'DDTP2',\n",
       " 'DDTP3',\n",
       " 'DDTP4',\n",
       " 'DDTP5',\n",
       " 'DDTP6',\n",
       " 'DDTP7',\n",
       " 'DDTP8',\n",
       " 'DDTP9',\n",
       " 'DFLU1',\n",
       " 'DFLU2',\n",
       " 'DFLU3',\n",
       " 'DFLU4',\n",
       " 'DFLU5',\n",
       " 'DFLU6',\n",
       " 'DFLU7',\n",
       " 'DFLU8',\n",
       " 'DFLU9',\n",
       " 'DHEPA1',\n",
       " 'DHEPA2',\n",
       " 'DHEPA3',\n",
       " 'DHEPA4',\n",
       " 'DHEPA5',\n",
       " 'DHEPA6',\n",
       " 'DHEPA7',\n",
       " 'DHEPA8',\n",
       " 'DHEPA9',\n",
       " 'DHEPB1',\n",
       " 'DHEPB2',\n",
       " 'DHEPB3',\n",
       " 'DHEPB4',\n",
       " 'DHEPB5',\n",
       " 'DHEPB6',\n",
       " 'DHEPB7',\n",
       " 'DHEPB8',\n",
       " 'DHEPB9',\n",
       " 'DHIB1',\n",
       " 'DHIB2',\n",
       " 'DHIB3',\n",
       " 'DHIB4',\n",
       " 'DHIB5',\n",
       " 'DHIB6',\n",
       " 'DHIB7',\n",
       " 'DHIB8',\n",
       " 'DHIB9',\n",
       " 'DMMR1',\n",
       " 'DMMR2',\n",
       " 'DMMR3',\n",
       " 'DMMR4',\n",
       " 'DMMR5',\n",
       " 'DMMR6',\n",
       " 'DMMR7',\n",
       " 'DMMR8',\n",
       " 'DMMR9',\n",
       " 'DMP1',\n",
       " 'DMP2',\n",
       " 'DMP3',\n",
       " 'DMP4',\n",
       " 'DMP5',\n",
       " 'DMP6',\n",
       " 'DMP7',\n",
       " 'DMP8',\n",
       " 'DMP9',\n",
       " 'DMPRB1',\n",
       " 'DMPRB2',\n",
       " 'DMPRB3',\n",
       " 'DMPRB4',\n",
       " 'DMPRB5',\n",
       " 'DMPRB6',\n",
       " 'DMPRB7',\n",
       " 'DMPRB8',\n",
       " 'DMPRB9',\n",
       " 'DPCV1',\n",
       " 'DPCV2',\n",
       " 'DPCV3',\n",
       " 'DPCV4',\n",
       " 'DPCV5',\n",
       " 'DPCV6',\n",
       " 'DPCV7',\n",
       " 'DPCV8',\n",
       " 'DPCV9',\n",
       " 'DPOLIO1',\n",
       " 'DPOLIO2',\n",
       " 'DPOLIO3',\n",
       " 'DPOLIO4',\n",
       " 'DPOLIO5',\n",
       " 'DPOLIO6',\n",
       " 'DPOLIO7',\n",
       " 'DPOLIO8',\n",
       " 'DPOLIO9',\n",
       " 'DRB1',\n",
       " 'DRB2',\n",
       " 'DRB3',\n",
       " 'DRB4',\n",
       " 'DRB5',\n",
       " 'DRB6',\n",
       " 'DRB7',\n",
       " 'DRB8',\n",
       " 'DRB9',\n",
       " 'DROT1',\n",
       " 'DROT2',\n",
       " 'DROT3',\n",
       " 'DROT4',\n",
       " 'DROT5',\n",
       " 'DROT6',\n",
       " 'DROT7',\n",
       " 'DROT8',\n",
       " 'DROT9',\n",
       " 'DVRC1',\n",
       " 'DVRC2',\n",
       " 'DVRC3',\n",
       " 'DVRC4',\n",
       " 'DVRC5',\n",
       " 'DVRC6',\n",
       " 'DVRC7',\n",
       " 'DVRC8',\n",
       " 'DVRC9',\n",
       " 'DTP1_AGE',\n",
       " 'DTP2_AGE',\n",
       " 'DTP3_AGE',\n",
       " 'DTP4_AGE',\n",
       " 'DTP5_AGE',\n",
       " 'DTP6_AGE',\n",
       " 'DTP7_AGE',\n",
       " 'DTP8_AGE',\n",
       " 'DTP9_AGE',\n",
       " 'FLU1_AGE',\n",
       " 'FLU2_AGE',\n",
       " 'FLU3_AGE',\n",
       " 'FLU4_AGE',\n",
       " 'FLU5_AGE',\n",
       " 'FLU6_AGE',\n",
       " 'FLU7_AGE',\n",
       " 'FLU8_AGE',\n",
       " 'FLU9_AGE',\n",
       " 'HEA1_AGE',\n",
       " 'HEA2_AGE',\n",
       " 'HEA3_AGE',\n",
       " 'HEA4_AGE',\n",
       " 'HEA5_AGE',\n",
       " 'HEA6_AGE',\n",
       " 'HEA7_AGE',\n",
       " 'HEA8_AGE',\n",
       " 'HEA9_AGE',\n",
       " 'HEP1_AGE',\n",
       " 'HEP2_AGE',\n",
       " 'HEP3_AGE',\n",
       " 'HEP4_AGE',\n",
       " 'HEP5_AGE',\n",
       " 'HEP6_AGE',\n",
       " 'HEP7_AGE',\n",
       " 'HEP8_AGE',\n",
       " 'HEP9_AGE',\n",
       " 'HIB1_AGE',\n",
       " 'HIB2_AGE',\n",
       " 'HIB3_AGE',\n",
       " 'HIB4_AGE',\n",
       " 'HIB5_AGE',\n",
       " 'HIB6_AGE',\n",
       " 'HIB7_AGE',\n",
       " 'HIB8_AGE',\n",
       " 'HIB9_AGE',\n",
       " 'MMR1_AGE',\n",
       " 'MMR2_AGE',\n",
       " 'MMR3_AGE',\n",
       " 'MMR4_AGE',\n",
       " 'MMR5_AGE',\n",
       " 'MMR6_AGE',\n",
       " 'MMR7_AGE',\n",
       " 'MMR8_AGE',\n",
       " 'MMR9_AGE',\n",
       " 'MP1_AGE',\n",
       " 'MP2_AGE',\n",
       " 'MP3_AGE',\n",
       " 'MP4_AGE',\n",
       " 'MP5_AGE',\n",
       " 'MP6_AGE',\n",
       " 'MP7_AGE',\n",
       " 'MP8_AGE',\n",
       " 'MP9_AGE',\n",
       " 'MPR1_AGE',\n",
       " 'MPR2_AGE',\n",
       " 'MPR3_AGE',\n",
       " 'MPR4_AGE',\n",
       " 'MPR5_AGE',\n",
       " 'MPR6_AGE',\n",
       " 'MPR7_AGE',\n",
       " 'MPR8_AGE',\n",
       " 'MPR9_AGE',\n",
       " 'PCV1_AGE',\n",
       " 'PCV2_AGE',\n",
       " 'PCV3_AGE',\n",
       " 'PCV4_AGE',\n",
       " 'PCV5_AGE',\n",
       " 'PCV6_AGE',\n",
       " 'PCV7_AGE',\n",
       " 'PCV8_AGE',\n",
       " 'PCV9_AGE',\n",
       " 'POL1_AGE',\n",
       " 'POL2_AGE',\n",
       " 'POL3_AGE',\n",
       " 'POL4_AGE',\n",
       " 'POL5_AGE',\n",
       " 'POL6_AGE',\n",
       " 'POL7_AGE',\n",
       " 'POL8_AGE',\n",
       " 'POL9_AGE',\n",
       " 'RB1_AGE',\n",
       " 'RB2_AGE',\n",
       " 'RB3_AGE',\n",
       " 'RB4_AGE',\n",
       " 'RB5_AGE',\n",
       " 'RB6_AGE',\n",
       " 'RB7_AGE',\n",
       " 'RB8_AGE',\n",
       " 'RB9_AGE',\n",
       " 'ROT1_AGE',\n",
       " 'ROT2_AGE',\n",
       " 'ROT3_AGE',\n",
       " 'ROT4_AGE',\n",
       " 'ROT5_AGE',\n",
       " 'ROT6_AGE',\n",
       " 'ROT7_AGE',\n",
       " 'ROT8_AGE',\n",
       " 'ROT9_AGE',\n",
       " 'VRC1_AGE',\n",
       " 'VRC2_AGE',\n",
       " 'VRC3_AGE',\n",
       " 'VRC4_AGE',\n",
       " 'VRC5_AGE',\n",
       " 'VRC6_AGE',\n",
       " 'VRC7_AGE',\n",
       " 'VRC8_AGE',\n",
       " 'VRC9_AGE',\n",
       " 'XDTPTY1',\n",
       " 'XDTPTY2',\n",
       " 'XDTPTY3',\n",
       " 'XDTPTY4',\n",
       " 'XDTPTY5',\n",
       " 'XDTPTY6',\n",
       " 'XDTPTY7',\n",
       " 'XDTPTY8',\n",
       " 'XDTPTY9',\n",
       " 'XFLUTY1',\n",
       " 'XFLUTY2',\n",
       " 'XFLUTY3',\n",
       " 'XFLUTY4',\n",
       " 'XFLUTY5',\n",
       " 'XFLUTY6',\n",
       " 'XFLUTY7',\n",
       " 'XFLUTY8',\n",
       " 'XFLUTY9',\n",
       " 'XHEPTY1',\n",
       " 'XHEPTY2',\n",
       " 'XHEPTY3',\n",
       " 'XHEPTY4',\n",
       " 'XHEPTY5',\n",
       " 'XHEPTY6',\n",
       " 'XHEPTY7',\n",
       " 'XHEPTY8',\n",
       " 'XHEPTY9',\n",
       " 'XHIBTY1',\n",
       " 'XHIBTY2',\n",
       " 'XHIBTY3',\n",
       " 'XHIBTY4',\n",
       " 'XHIBTY5',\n",
       " 'XHIBTY6',\n",
       " 'XHIBTY7',\n",
       " 'XHIBTY8',\n",
       " 'XHIBTY9',\n",
       " 'XMMRTY1',\n",
       " 'XMMRTY2',\n",
       " 'XMMRTY3',\n",
       " 'XMMRTY4',\n",
       " 'XMMRTY5',\n",
       " 'XMMRTY6',\n",
       " 'XMMRTY7',\n",
       " 'XMMRTY8',\n",
       " 'XMMRTY9',\n",
       " 'XPCVTY1',\n",
       " 'XPCVTY2',\n",
       " 'XPCVTY3',\n",
       " 'XPCVTY4',\n",
       " 'XPCVTY5',\n",
       " 'XPCVTY6',\n",
       " 'XPCVTY7',\n",
       " 'XPCVTY8',\n",
       " 'XPCVTY9',\n",
       " 'XPOLTY1',\n",
       " 'XPOLTY2',\n",
       " 'XPOLTY3',\n",
       " 'XPOLTY4',\n",
       " 'XPOLTY5',\n",
       " 'XPOLTY6',\n",
       " 'XPOLTY7',\n",
       " 'XPOLTY8',\n",
       " 'XPOLTY9',\n",
       " 'XROTTY1',\n",
       " 'XROTTY2',\n",
       " 'XROTTY3',\n",
       " 'XROTTY4',\n",
       " 'XROTTY5',\n",
       " 'XROTTY6',\n",
       " 'XROTTY7',\n",
       " 'XROTTY8',\n",
       " 'XROTTY9',\n",
       " 'XVRCTY1',\n",
       " 'XVRCTY2',\n",
       " 'XVRCTY3',\n",
       " 'XVRCTY4',\n",
       " 'XVRCTY5',\n",
       " 'XVRCTY6',\n",
       " 'XVRCTY7',\n",
       " 'XVRCTY8',\n",
       " 'XVRCTY9',\n",
       " 'INS_STAT2_I',\n",
       " 'INS_BREAK_I']"
      ]
     },
     "execution_count": 17,
     "metadata": {},
     "output_type": "execute_result"
    }
   ],
   "source": [
    "list(data.columns)"
   ]
  },
  {
   "cell_type": "code",
   "execution_count": 26,
   "metadata": {},
   "outputs": [
    {
     "data": {
      "text/plain": [
       "array([4, 3, 1, 2], dtype=int64)"
      ]
     },
     "execution_count": 26,
     "metadata": {},
     "output_type": "execute_result"
    }
   ],
   "source": [
    "data['EDUC1'].unique()"
   ]
  },
  {
   "cell_type": "code",
   "execution_count": 33,
   "metadata": {},
   "outputs": [
    {
     "data": {
      "text/plain": [
       "13656"
      ]
     },
     "execution_count": 33,
     "metadata": {},
     "output_type": "execute_result"
    }
   ],
   "source": [
    "len(data['EDUC1'][data['EDUC1'] == 4])"
   ]
  },
  {
   "cell_type": "code",
   "execution_count": 61,
   "metadata": {},
   "outputs": [],
   "source": [
    "dictLengths = {dictCorrespondences[x] : len(data['EDUC1'][data['EDUC1'] == x])/data['EDUC1'].count() for x in data['EDUC1'].unique()}"
   ]
  },
  {
   "cell_type": "code",
   "execution_count": 62,
   "metadata": {},
   "outputs": [
    {
     "data": {
      "text/plain": [
       "{'college': 0.47974705779026877,\n",
       " 'more than high school but not college': 0.24588090637625154,\n",
       " 'less than high school': 0.10202002459160373,\n",
       " 'high school': 0.172352011241876}"
      ]
     },
     "execution_count": 62,
     "metadata": {},
     "output_type": "execute_result"
    }
   ],
   "source": [
    "dictLengths"
   ]
  },
  {
   "cell_type": "code",
   "execution_count": 48,
   "metadata": {},
   "outputs": [
    {
     "data": {
      "text/plain": [
       "28465"
      ]
     },
     "execution_count": 48,
     "metadata": {},
     "output_type": "execute_result"
    }
   ],
   "source": [
    "data['EDUC1'].count()"
   ]
  },
  {
   "cell_type": "code",
   "execution_count": 63,
   "metadata": {},
   "outputs": [],
   "source": [
    "dictCorrespondences = {1 : \"less than high school\" ,\n",
    "                       2 : \"high school\" ,\n",
    "                       3 : \"more than high school but not college\" ,\n",
    "                       4 : \"college\"}"
   ]
  },
  {
   "cell_type": "code",
   "execution_count": 56,
   "metadata": {},
   "outputs": [
    {
     "data": {
      "text/plain": [
       "'high school'"
      ]
     },
     "execution_count": 56,
     "metadata": {},
     "output_type": "execute_result"
    }
   ],
   "source": [
    "dictCorrespondences[2]"
   ]
  },
  {
   "cell_type": "code",
   "execution_count": 68,
   "metadata": {},
   "outputs": [
    {
     "name": "stdout",
     "output_type": "stream",
     "text": [
      "27.9 µs ± 118 ns per loop (mean ± std. dev. of 7 runs, 10000 loops each)\n"
     ]
    }
   ],
   "source": [
    "%timeit data['EDUC1'].count()"
   ]
  },
  {
   "cell_type": "code",
   "execution_count": 69,
   "metadata": {},
   "outputs": [
    {
     "name": "stdout",
     "output_type": "stream",
     "text": [
      "1.16 µs ± 2.96 ns per loop (mean ± std. dev. of 7 runs, 1000000 loops each)\n"
     ]
    }
   ],
   "source": [
    "%timeit len(data['EDUC1'])"
   ]
  },
  {
   "cell_type": "markdown",
   "metadata": {},
   "source": [
    "# Assignment 2"
   ]
  },
  {
   "cell_type": "code",
   "execution_count": 74,
   "metadata": {},
   "outputs": [
    {
     "data": {
      "text/plain": [
       "array([ 1,  2, 99, 77], dtype=int64)"
      ]
     },
     "execution_count": 74,
     "metadata": {},
     "output_type": "execute_result"
    }
   ],
   "source": [
    "CBF_01 = data['CBF_01']\n",
    "CBF_01.unique()"
   ]
  },
  {
   "cell_type": "code",
   "execution_count": 75,
   "metadata": {},
   "outputs": [
    {
     "data": {
      "text/plain": [
       "array([nan,  3.,  0.,  2.,  1.,  4.,  5.,  6.])"
      ]
     },
     "execution_count": 75,
     "metadata": {},
     "output_type": "execute_result"
    }
   ],
   "source": [
    "P_NUMFLU = data['P_NUMFLU']\n",
    "P_NUMFLU.unique()"
   ]
  },
  {
   "cell_type": "code",
   "execution_count": 87,
   "metadata": {},
   "outputs": [],
   "source": [
    "maskYes = CBF_01 == 1 #Yes\n",
    "maskNo = CBF_01 == 2 #No"
   ]
  },
  {
   "cell_type": "code",
   "execution_count": 88,
   "metadata": {},
   "outputs": [
    {
     "data": {
      "text/plain": [
       "1        False\n",
       "2         True\n",
       "3         True\n",
       "4         True\n",
       "5        False\n",
       "         ...  \n",
       "28461     True\n",
       "28462    False\n",
       "28463    False\n",
       "28464     True\n",
       "28465    False\n",
       "Name: CBF_01, Length: 28465, dtype: bool"
      ]
     },
     "execution_count": 88,
     "metadata": {},
     "output_type": "execute_result"
    }
   ],
   "source": [
    "maskNo"
   ]
  },
  {
   "cell_type": "code",
   "execution_count": 89,
   "metadata": {},
   "outputs": [
    {
     "data": {
      "text/plain": [
       "1         True\n",
       "2        False\n",
       "3        False\n",
       "4        False\n",
       "5         True\n",
       "         ...  \n",
       "28461    False\n",
       "28462     True\n",
       "28463     True\n",
       "28464    False\n",
       "28465     True\n",
       "Name: CBF_01, Length: 28465, dtype: bool"
      ]
     },
     "execution_count": 89,
     "metadata": {},
     "output_type": "execute_result"
    }
   ],
   "source": [
    "maskYes"
   ]
  },
  {
   "cell_type": "code",
   "execution_count": 100,
   "metadata": {},
   "outputs": [
    {
     "data": {
      "text/plain": [
       "1.8799187420058687"
      ]
     },
     "execution_count": 100,
     "metadata": {},
     "output_type": "execute_result"
    }
   ],
   "source": [
    "sum(P_NUMFLU[maskYes].dropna())/len(P_NUMFLU[maskYes].dropna())"
   ]
  },
  {
   "cell_type": "code",
   "execution_count": 99,
   "metadata": {},
   "outputs": [
    {
     "data": {
      "text/plain": [
       "1.5963945918878317"
      ]
     },
     "execution_count": 99,
     "metadata": {},
     "output_type": "execute_result"
    }
   ],
   "source": [
    "sum(P_NUMFLU[maskNo].dropna())/len(P_NUMFLU[maskNo].dropna())"
   ]
  },
  {
   "cell_type": "code",
   "execution_count": 101,
   "metadata": {},
   "outputs": [
    {
     "data": {
      "text/plain": [
       "1.0298833518816206"
      ]
     },
     "execution_count": 101,
     "metadata": {},
     "output_type": "execute_result"
    }
   ],
   "source": [
    "sum(P_NUMFLU[maskYes].fillna(0.0))/len(P_NUMFLU[maskYes])"
   ]
  },
  {
   "cell_type": "code",
   "execution_count": 102,
   "metadata": {},
   "outputs": [
    {
     "data": {
      "text/plain": [
       "0.7804161566707466"
      ]
     },
     "execution_count": 102,
     "metadata": {},
     "output_type": "execute_result"
    }
   ],
   "source": [
    "sum(P_NUMFLU[maskNo].fillna(0.0))/len(P_NUMFLU[maskNo])"
   ]
  },
  {
   "cell_type": "code",
   "execution_count": 108,
   "metadata": {},
   "outputs": [
    {
     "name": "stdout",
     "output_type": "stream",
     "text": [
      "780 µs ± 4.14 µs per loop (mean ± std. dev. of 7 runs, 1000 loops each)\n"
     ]
    }
   ],
   "source": [
    "%timeit sum(P_NUMFLU[maskYes].dropna())"
   ]
  },
  {
   "cell_type": "code",
   "execution_count": 109,
   "metadata": {},
   "outputs": [
    {
     "name": "stdout",
     "output_type": "stream",
     "text": [
      "376 µs ± 879 ns per loop (mean ± std. dev. of 7 runs, 1000 loops each)\n"
     ]
    }
   ],
   "source": [
    "%timeit P_NUMFLU[maskYes].dropna().sum()"
   ]
  },
  {
   "cell_type": "markdown",
   "metadata": {},
   "source": [
    "# Assignment 3"
   ]
  },
  {
   "cell_type": "code",
   "execution_count": 117,
   "metadata": {},
   "outputs": [
    {
     "data": {
      "text/plain": [
       "array([1, 2], dtype=int64)"
      ]
     },
     "execution_count": 117,
     "metadata": {},
     "output_type": "execute_result"
    }
   ],
   "source": [
    "SEX = data['SEX']\n",
    "SEX.unique()"
   ]
  },
  {
   "cell_type": "code",
   "execution_count": 118,
   "metadata": {},
   "outputs": [
    {
     "data": {
      "text/plain": [
       "array([nan,  1.,  0.,  2.,  3.])"
      ]
     },
     "execution_count": 118,
     "metadata": {},
     "output_type": "execute_result"
    }
   ],
   "source": [
    "P_NUMVRC = data['P_NUMVRC']\n",
    "P_NUMVRC.unique()"
   ]
  },
  {
   "cell_type": "code",
   "execution_count": 119,
   "metadata": {},
   "outputs": [
    {
     "data": {
      "text/plain": [
       "array([ 2,  1, 77, 99], dtype=int64)"
      ]
     },
     "execution_count": 119,
     "metadata": {},
     "output_type": "execute_result"
    }
   ],
   "source": [
    "HAD_CPOX = data['HAD_CPOX']\n",
    "HAD_CPOX.unique()"
   ]
  },
  {
   "cell_type": "code",
   "execution_count": 166,
   "metadata": {},
   "outputs": [],
   "source": [
    "maskSex = SEX == 1\n",
    "maskHadCPox = HAD_CPOX == 1\n",
    "maskNoCPox = HAD_CPOX == 2\n",
    "maskVaccCPox = P_NUMVRC >= 1"
   ]
  },
  {
   "cell_type": "code",
   "execution_count": 173,
   "metadata": {},
   "outputs": [],
   "source": [
    "YesVaccYesCPox = HAD_CPOX[maskVaccCPox][maskHadCPox]\n",
    "YesVaccNoCPox = HAD_CPOX[maskVaccCPox][maskNoCPox]"
   ]
  },
  {
   "cell_type": "code",
   "execution_count": 181,
   "metadata": {},
   "outputs": [],
   "source": [
    "YesVaccYesCPoxMales = YesVaccYesCPox[maskSex]\n",
    "YesVaccYesCPoxFemales = YesVaccYesCPox[~maskSex]\n",
    "YesVaccNoCPoxMales = YesVaccNoCPox[maskSex]\n",
    "YesVaccNoCPoxFemales = YesVaccNoCPox[~maskSex]"
   ]
  },
  {
   "cell_type": "code",
   "execution_count": 180,
   "metadata": {},
   "outputs": [
    {
     "data": {
      "text/plain": [
       "53"
      ]
     },
     "execution_count": 180,
     "metadata": {},
     "output_type": "execute_result"
    }
   ],
   "source": [
    "len(YesVaccYesCPoxFemales)"
   ]
  },
  {
   "cell_type": "code",
   "execution_count": 179,
   "metadata": {},
   "outputs": [
    {
     "data": {
      "text/plain": [
       "68"
      ]
     },
     "execution_count": 179,
     "metadata": {},
     "output_type": "execute_result"
    }
   ],
   "source": [
    "len(YesVaccYesCPoxMales)"
   ]
  },
  {
   "cell_type": "code",
   "execution_count": 182,
   "metadata": {},
   "outputs": [
    {
     "data": {
      "text/plain": [
       "0.0077918259335489565"
      ]
     },
     "execution_count": 182,
     "metadata": {},
     "output_type": "execute_result"
    }
   ],
   "source": [
    "len(YesVaccYesCPoxFemales) / len(YesVaccNoCPoxFemales)"
   ]
  },
  {
   "cell_type": "code",
   "execution_count": 183,
   "metadata": {},
   "outputs": [
    {
     "data": {
      "text/plain": [
       "0.009675583380762664"
      ]
     },
     "execution_count": 183,
     "metadata": {},
     "output_type": "execute_result"
    }
   ],
   "source": [
    "len(YesVaccYesCPoxMales) / len(YesVaccNoCPoxMales)"
   ]
  },
  {
   "cell_type": "markdown",
   "metadata": {},
   "source": [
    "# Assignment 4"
   ]
  },
  {
   "cell_type": "code",
   "execution_count": 195,
   "metadata": {},
   "outputs": [],
   "source": [
    "maskCPox = HAD_CPOX <= 2"
   ]
  },
  {
   "cell_type": "code",
   "execution_count": 194,
   "metadata": {},
   "outputs": [],
   "source": [
    "maskVacc = P_NUMVRC >= 0"
   ]
  },
  {
   "cell_type": "code",
   "execution_count": 196,
   "metadata": {},
   "outputs": [
    {
     "data": {
      "text/plain": [
       "4        2\n",
       "5        2\n",
       "7        2\n",
       "8        2\n",
       "9        1\n",
       "        ..\n",
       "28447    2\n",
       "28448    2\n",
       "28450    2\n",
       "28453    2\n",
       "28455    2\n",
       "Name: HAD_CPOX, Length: 15286, dtype: int64"
      ]
     },
     "execution_count": 196,
     "metadata": {},
     "output_type": "execute_result"
    }
   ],
   "source": [
    "HAD_CPOX[maskCPox][maskVacc]"
   ]
  },
  {
   "cell_type": "code",
   "execution_count": 197,
   "metadata": {},
   "outputs": [
    {
     "data": {
      "text/plain": [
       "4        1.0\n",
       "5        0.0\n",
       "7        1.0\n",
       "8        0.0\n",
       "9        0.0\n",
       "        ... \n",
       "28447    1.0\n",
       "28448    1.0\n",
       "28450    1.0\n",
       "28453    1.0\n",
       "28455    1.0\n",
       "Name: P_NUMVRC, Length: 15286, dtype: float64"
      ]
     },
     "execution_count": 197,
     "metadata": {},
     "output_type": "execute_result"
    }
   ],
   "source": [
    "P_NUMVRC[maskCPox][maskVacc]"
   ]
  },
  {
   "cell_type": "code",
   "execution_count": 198,
   "metadata": {},
   "outputs": [],
   "source": [
    "corr, pval=stats.pearsonr(HAD_CPOX[maskCPox][maskVacc],P_NUMVRC[maskCPox][maskVacc])"
   ]
  },
  {
   "cell_type": "code",
   "execution_count": 199,
   "metadata": {},
   "outputs": [
    {
     "data": {
      "text/plain": [
       "(0.07044873460147873, 2.7780263182892073e-18)"
      ]
     },
     "execution_count": 199,
     "metadata": {},
     "output_type": "execute_result"
    }
   ],
   "source": [
    "corr,pval"
   ]
  },
  {
   "cell_type": "code",
   "execution_count": 201,
   "metadata": {},
   "outputs": [
    {
     "data": {
      "text/plain": [
       "array([nan, 12., 13., 10., 24., 15., 16., 20., 14., 18., 19., 17., 32.,\n",
       "       22., 21., 33., 30., 25., 38., 26., 11., 34., 29., 28., 23.,  4.,\n",
       "       31.,  6., 36., 27.,  9., 37.,  0.,  7.,  2., 35.,  3.,  5., 39.])"
      ]
     },
     "execution_count": 201,
     "metadata": {},
     "output_type": "execute_result"
    }
   ],
   "source": [
    "data['VRC1_AGE'].unique()"
   ]
  },
  {
   "cell_type": "code",
   "execution_count": null,
   "metadata": {},
   "outputs": [],
   "source": []
  }
 ],
 "metadata": {
  "kernelspec": {
   "display_name": "Python 3",
   "language": "python",
   "name": "python3"
  },
  "language_info": {
   "codemirror_mode": {
    "name": "ipython",
    "version": 3
   },
   "file_extension": ".py",
   "mimetype": "text/x-python",
   "name": "python",
   "nbconvert_exporter": "python",
   "pygments_lexer": "ipython3",
   "version": "3.9.1"
  }
 },
 "nbformat": 4,
 "nbformat_minor": 4
}
